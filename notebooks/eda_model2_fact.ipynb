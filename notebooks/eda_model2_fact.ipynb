{
 "cells": [
  {
   "cell_type": "markdown",
   "metadata": {},
   "source": [
    "# **Housing Prices**  \n",
    "\n",
    "@sofiagerard  \n",
    "febrero 2025\n",
    "\n"
   ]
  },
  {
   "cell_type": "markdown",
   "metadata": {},
   "source": [
    "**Factorizing notebook in order to transform it into a pipeline/script and\n",
    "keeping just the necessary, aka removing xgboost**"
   ]
  },
  {
   "cell_type": "markdown",
   "metadata": {},
   "source": [
    "## Libraries"
   ]
  },
  {
   "cell_type": "code",
   "execution_count": 4,
   "metadata": {},
   "outputs": [
    {
     "name": "stderr",
     "output_type": "stream",
     "text": [
      "2025-02-15 16:49:49,913 - INFO - NumExpr defaulting to 8 threads.\n"
     ]
    }
   ],
   "source": [
    "\n",
    "import pandas as pd\n",
    "import numpy as np\n",
    "import matplotlib.pyplot as plt\n",
    "import seaborn as sns\n",
    "from sklearn.model_selection import train_test_split\n",
    "from sklearn.preprocessing import StandardScaler, OneHotEncoder\n",
    "from sklearn.impute import SimpleImputer\n",
    "from sklearn.pipeline import Pipeline\n",
    "from sklearn.compose import ColumnTransformer\n",
    "from sklearn.linear_model import LinearRegression\n",
    "from xgboost import XGBRegressor\n",
    "from sklearn.metrics import mean_absolute_error, mean_squared_error, r2_score\n",
    "import os\n",
    "import logging\n",
    "\n"
   ]
  },
  {
   "cell_type": "code",
   "execution_count": 5,
   "metadata": {},
   "outputs": [
    {
     "name": "stderr",
     "output_type": "stream",
     "text": [
      "2025-02-15 16:49:51,647 - INFO - Este es un mensaje informativo en el notebook.\n",
      "2025-02-15 16:49:51,648 - WARNING - ¡Cuidado! Este es un mensaje de advertencia.\n",
      "2025-02-15 16:49:51,648 - ERROR - Esto es un error.\n"
     ]
    }
   ],
   "source": [
    "import logging\n",
    "\n",
    "# Configurar logging para que muestre mensajes en el notebook\n",
    "logging.basicConfig(level=logging.INFO, format='%(asctime)s - %(levelname)s - %(message)s')\n",
    "\n",
    "# Probarlo\n",
    "logging.info(\"Este es un mensaje informativo en el notebook.\")\n",
    "logging.warning(\"¡Cuidado! Este es un mensaje de advertencia.\")\n",
    "logging.error(\"Esto es un error.\")\n"
   ]
  },
  {
   "cell_type": "markdown",
   "metadata": {},
   "source": [
    "## Data"
   ]
  },
  {
   "cell_type": "code",
   "execution_count": 7,
   "metadata": {},
   "outputs": [],
   "source": [
    "def load_data(train_path=\"../data/raw/train.csv\", test_path=\"../data/raw/test.csv\"):\n",
    "    \"\"\"\n",
    "    Carga los datasets de entrenamiento y prueba desde archivos CSV.\n",
    "\n",
    "    Args:\n",
    "    - train_path (str): Ruta al archivo CSV de entrenamiento.\n",
    "    - test_path (str): Ruta al archivo CSV de prueba.\n",
    "\n",
    "    Returns:\n",
    "    - tuple: (df_train, df_test) si tiene éxito, o None si falla.\n",
    "    \"\"\"\n",
    "    try:\n",
    "        # Verificar si los archivos existen\n",
    "        if not os.path.exists(train_path):\n",
    "            raise FileNotFoundError(f\"❌ No se encontró el archivo: {train_path}\")\n",
    "        if not os.path.exists(test_path):\n",
    "            raise FileNotFoundError(f\"❌ No se encontró el archivo: {test_path}\")\n",
    "\n",
    "        # Cargar datos\n",
    "        df_train = pd.read_csv(train_path)\n",
    "        df_test = pd.read_csv(test_path)\n",
    "\n",
    "        # Verificar si están vacíos\n",
    "        if df_train.empty:\n",
    "            raise ValueError(\"⚠️ El DataFrame de entrenamiento está vacío.\")\n",
    "        if df_test.empty:\n",
    "            raise ValueError(\"⚠️ El DataFrame de prueba está vacío.\")\n",
    "\n",
    "        print(\"✅ Datos cargados correctamente.\")\n",
    "        return df_train, df_test\n",
    "\n",
    "    except Exception as e:\n",
    "        logging.error(f\"Error al cargar los datos: {e}\")\n",
    "        print(f\"❌ Error al cargar los datos: {e}\")\n",
    "        return None, None\n",
    "\n",
    "\n"
   ]
  },
  {
   "cell_type": "markdown",
   "metadata": {},
   "source": [
    "---"
   ]
  },
  {
   "cell_type": "markdown",
   "metadata": {},
   "source": [
    "## Preprocessing"
   ]
  },
  {
   "cell_type": "code",
   "execution_count": 8,
   "metadata": {},
   "outputs": [
    {
     "name": "stderr",
     "output_type": "stream",
     "text": [
      "2025-02-15 16:50:05,489 - INFO - ✅ Nulos categóricos rellenados para columnas: ['Alley', 'MasVnrType', 'BsmtQual', 'BsmtCond', 'BsmtExposure', 'BsmtFinType1', 'BsmtFinType2', 'FireplaceQu', 'GarageType', 'GarageFinish', 'GarageQual', 'GarageCond', 'PoolQC', 'Fence', 'MiscFeature']\n",
      "2025-02-15 16:50:05,491 - INFO - ✅ Nulos numéricos rellenados para columnas: ['LotFrontage', 'MasVnrArea', 'GarageYrBlt']\n",
      "2025-02-15 16:50:05,493 - INFO - ✅ Nulos rellenados con la moda en columna: 'Electrical'\n"
     ]
    },
    {
     "name": "stdout",
     "output_type": "stream",
     "text": [
      "   Id  MSSubClass MSZoning  LotFrontage  LotArea Street Alley LotShape  \\\n",
      "0   1          60       RL         65.0     8450   Pave  None      Reg   \n",
      "1   2          20       RL         80.0     9600   Pave  None      Reg   \n",
      "2   3          60       RL         68.0    11250   Pave  None      IR1   \n",
      "3   4          70       RL         60.0     9550   Pave  None      IR1   \n",
      "4   5          60       RL         84.0    14260   Pave  None      IR1   \n",
      "\n",
      "  LandContour Utilities  ... PoolArea PoolQC Fence MiscFeature MiscVal MoSold  \\\n",
      "0         Lvl    AllPub  ...        0   None  None        None       0      2   \n",
      "1         Lvl    AllPub  ...        0   None  None        None       0      5   \n",
      "2         Lvl    AllPub  ...        0   None  None        None       0      9   \n",
      "3         Lvl    AllPub  ...        0   None  None        None       0      2   \n",
      "4         Lvl    AllPub  ...        0   None  None        None       0     12   \n",
      "\n",
      "  YrSold  SaleType  SaleCondition  SalePrice  \n",
      "0   2008        WD         Normal     208500  \n",
      "1   2007        WD         Normal     181500  \n",
      "2   2008        WD         Normal     223500  \n",
      "3   2006        WD        Abnorml     140000  \n",
      "4   2008        WD         Normal     250000  \n",
      "\n",
      "[5 rows x 81 columns]\n",
      "     Id  MSSubClass MSZoning  LotFrontage  LotArea Street Alley LotShape  \\\n",
      "0  1461          20       RH         80.0    11622   Pave  None      Reg   \n",
      "1  1462          20       RL         81.0    14267   Pave  None      IR1   \n",
      "2  1463          60       RL         74.0    13830   Pave  None      IR1   \n",
      "3  1464          60       RL         78.0     9978   Pave  None      IR1   \n",
      "4  1465         120       RL         43.0     5005   Pave  None      IR1   \n",
      "\n",
      "  LandContour Utilities  ... ScreenPorch PoolArea PoolQC  Fence MiscFeature  \\\n",
      "0         Lvl    AllPub  ...         120        0   None  MnPrv        None   \n",
      "1         Lvl    AllPub  ...           0        0   None   None        Gar2   \n",
      "2         Lvl    AllPub  ...           0        0   None  MnPrv        None   \n",
      "3         Lvl    AllPub  ...           0        0   None   None        None   \n",
      "4         HLS    AllPub  ...         144        0   None   None        None   \n",
      "\n",
      "  MiscVal MoSold  YrSold  SaleType  SaleCondition  \n",
      "0       0      6    2010        WD         Normal  \n",
      "1   12500      6    2010        WD         Normal  \n",
      "2       0      3    2010        WD         Normal  \n",
      "3       0      6    2010        WD         Normal  \n",
      "4       0      1    2010        WD         Normal  \n",
      "\n",
      "[5 rows x 80 columns]\n"
     ]
    }
   ],
   "source": [
    "\n",
    "def fill_categorical_na(df_train, df_test, categorical_cols):\n",
    "    \"\"\"Rellena nulos en columnas categóricas con 'None'.\"\"\"\n",
    "    try:\n",
    "        for col in categorical_cols:\n",
    "            df_train[col] = df_train[col].fillna(\"None\")\n",
    "            df_test[col] = df_test[col].fillna(\"None\")\n",
    "        logging.info(f\"✅ Nulos categóricos rellenados para columnas: {categorical_cols}\")\n",
    "    except Exception as e:\n",
    "        logging.error(f\"❌ Error al rellenar nulos categóricos: {e}\")\n",
    "    return df_train, df_test\n",
    "\n",
    "\n",
    "def fill_numerical_na(df_train, df_test, numerical_cols):\n",
    "    \"\"\"Rellena nulos en columnas numéricas con la mediana.\"\"\"\n",
    "    try:\n",
    "        for col in numerical_cols:\n",
    "            median_value = df_train[col].median()\n",
    "            df_train[col] = df_train[col].fillna(median_value)\n",
    "            df_test[col] = df_test[col].fillna(median_value)\n",
    "        logging.info(f\"✅ Nulos numéricos rellenados para columnas: {numerical_cols}\")\n",
    "    except Exception as e:\n",
    "        logging.error(f\"❌ Error al rellenar nulos numéricos: {e}\")\n",
    "    return df_train, df_test\n",
    "\n",
    "\n",
    "def fill_mode_na(df_train, df_test, column):\n",
    "    \"\"\"Rellena nulos en una columna específica con el valor más frecuente (moda).\"\"\"\n",
    "    try:\n",
    "        mode_value = df_train[column].mode()[0]\n",
    "        df_train[column] = df_train[column].fillna(mode_value)\n",
    "        df_test[column] = df_test[column].fillna(mode_value)\n",
    "        logging.info(f\"✅ Nulos rellenados con la moda en columna: '{column}'\")\n",
    "    except Exception as e:\n",
    "        logging.error(f\"❌ Error al rellenar nulos con moda: {e}\")\n",
    "    return df_train, df_test\n",
    "\n",
    "\n",
    "# 🛠️ **Uso de las funciones**\n",
    "\n",
    "# Listas de columnas con nulos\n",
    "categorical_na = [\n",
    "    \"Alley\", \"MasVnrType\", \"BsmtQual\", \"BsmtCond\", \"BsmtExposure\", \n",
    "    \"BsmtFinType1\", \"BsmtFinType2\", \"FireplaceQu\", \"GarageType\", \n",
    "    \"GarageFinish\", \"GarageQual\", \"GarageCond\", \"PoolQC\", \"Fence\", \"MiscFeature\"\n",
    "]\n",
    "\n",
    "numerical_na = [\"LotFrontage\", \"MasVnrArea\", \"GarageYrBlt\"]\n",
    "mode_column = \"Electrical\"\n",
    "\n",
    "# Cargar datos\n",
    "df_train = pd.read_csv(\"../data/raw/train.csv\")\n",
    "df_test = pd.read_csv(\"../data/raw/test.csv\")\n",
    "\n",
    "# Aplicar funciones\n",
    "df_train, df_test = fill_categorical_na(df_train, df_test, categorical_na)\n",
    "df_train, df_test = fill_numerical_na(df_train, df_test, numerical_na)\n",
    "df_train, df_test = fill_mode_na(df_train, df_test, mode_column)\n",
    "\n",
    "# Revisar resultados\n",
    "print(df_train.head())\n",
    "print(df_test.head())\n",
    "\n"
   ]
  },
  {
   "cell_type": "markdown",
   "metadata": {},
   "source": [
    "---"
   ]
  },
  {
   "cell_type": "markdown",
   "metadata": {},
   "source": [
    "## Feature Engineering"
   ]
  },
  {
   "cell_type": "code",
   "execution_count": null,
   "metadata": {},
   "outputs": [
    {
     "name": "stderr",
     "output_type": "stream",
     "text": [
      "2025-02-15 16:53:11,830 - INFO - ✅ Ingeniería de características completada exitosamente.\n"
     ]
    },
    {
     "name": "stdout",
     "output_type": "stream",
     "text": [
      "   HouseAge  TotalSF  TotalBath\n",
      "0         5     2566        3.5\n",
      "1        31     2524        2.5\n",
      "2         6     2706        3.5\n",
      "3        36     2473        2.0\n",
      "4         8     3343        3.5\n",
      "   HouseAge  TotalSF  TotalBath\n",
      "0        49   1778.0        1.0\n",
      "1        52   2658.0        1.5\n",
      "2        12   2557.0        2.5\n",
      "3        12   2530.0        2.5\n",
      "4        18   2560.0        2.0\n"
     ]
    }
   ],
   "source": [
    "def create_engineered_features(df_train, df_test):\n",
    "    \"\"\"\n",
    "    Crea nuevas características relevantes para el análisis de precios de viviendas.\n",
    "    \n",
    "    Características creadas:\n",
    "    - HouseAge: Años desde la construcción o última remodelación.\n",
    "    - TotalSF: Superficie total habitable (sobre nivel del suelo + sótano).\n",
    "    - TotalBath: Suma de baños completos y medios baños (0.5 cada medio baño).\n",
    "    \"\"\"\n",
    "    try:\n",
    "        # HouseAge: Años desde construcción o remodelación\n",
    "        df_train[\"HouseAge\"] = df_train[\"YrSold\"] - df_train[[\"YearBuilt\", \"YearRemodAdd\"]].max(axis=1)\n",
    "        df_test[\"HouseAge\"] = df_test[\"YrSold\"] - df_test[[\"YearBuilt\", \"YearRemodAdd\"]].max(axis=1)\n",
    "\n",
    "        # TotalSF: Superficie total habitable\n",
    "        df_train[\"TotalSF\"] = df_train[\"GrLivArea\"] + df_train[\"TotalBsmtSF\"]\n",
    "        df_test[\"TotalSF\"] = df_test[\"GrLivArea\"] + df_test[\"TotalBsmtSF\"]\n",
    "\n",
    "        # TotalBath: Suma de baños completos y medios baños (medio baño = 0.5)\n",
    "        df_train[\"TotalBath\"] = (\n",
    "            df_train[\"FullBath\"] + (df_train[\"HalfBath\"] * 0.5) +\n",
    "            df_train[\"BsmtFullBath\"] + (df_train[\"BsmtHalfBath\"] * 0.5)\n",
    "        )\n",
    "        df_test[\"TotalBath\"] = (\n",
    "            df_test[\"FullBath\"] + (df_test[\"HalfBath\"] * 0.5) +\n",
    "            df_test[\"BsmtFullBath\"] + (df_test[\"BsmtHalfBath\"] * 0.5)\n",
    "        )\n",
    "\n",
    "        logging.info(\"✅ Ingeniería de características completada exitosamente.\")\n",
    "    except Exception as e:\n",
    "        logging.error(f\"❌ Error durante la ingeniería de características: {e}\")\n",
    "\n",
    "    return df_train, df_test\n",
    "\n",
    "\n",
    "# 🛠️ **Uso de la función**\n",
    "\n",
    "# Aplicar ingeniería de características\n",
    "df_train, df_test = create_engineered_features(df_train, df_test)\n",
    "\n",
    "# Revisar resultados\n",
    "print(df_train[[\"HouseAge\", \"TotalSF\", \"TotalBath\"]].head())\n",
    "print(df_test[[\"HouseAge\", \"TotalSF\", \"TotalBath\"]].head())\n"
   ]
  },
  {
   "cell_type": "markdown",
   "metadata": {},
   "source": [
    "---"
   ]
  },
  {
   "cell_type": "markdown",
   "metadata": {},
   "source": [
    "## Models"
   ]
  },
  {
   "cell_type": "code",
   "execution_count": 11,
   "metadata": {},
   "outputs": [
    {
     "name": "stdout",
     "output_type": "stream",
     "text": [
      "Número de variables finales: 13\n",
      "Primeras filas de X_train:\n",
      "   OverallQual  GrLivArea  TotalBsmtSF  GarageCars  GarageArea  1stFlrSF  \\\n",
      "0            7       1710          856           2         548       856   \n",
      "1            6       1262         1262           2         460      1262   \n",
      "2            7       1786          920           2         608       920   \n",
      "3            7       1717          756           3         642       961   \n",
      "4            8       2198         1145           3         836      1145   \n",
      "\n",
      "   FullBath  TotRmsAbvGrd  YearBuilt  YearRemodAdd  HouseAge  TotalSF  \\\n",
      "0         2             8       2003          2003         5     2566   \n",
      "1         2             6       1976          1976        31     2524   \n",
      "2         2             6       2001          2002         6     2706   \n",
      "3         1             7       1915          1970        36     2473   \n",
      "4         2             9       2000          2000         8     3343   \n",
      "\n",
      "   TotalBath  \n",
      "0        3.5  \n",
      "1        2.5  \n",
      "2        3.5  \n",
      "3        2.0  \n",
      "4        3.5  \n",
      "X_train_sub: (1168, 13), X_val: (292, 13)\n"
     ]
    }
   ],
   "source": [
    "\n",
    "def select_features(df_train, df_test):\n",
    "    \"\"\"Selecciona y devuelve las variables relevantes.\"\"\"\n",
    "    numerical_features = [\n",
    "        \"OverallQual\", \"GrLivArea\", \"TotalBsmtSF\", \"GarageCars\", \"GarageArea\",\n",
    "        \"1stFlrSF\", \"FullBath\", \"TotRmsAbvGrd\", \"YearBuilt\", \"YearRemodAdd\",\n",
    "        \"HouseAge\", \"TotalSF\", \"TotalBath\"\n",
    "    ]\n",
    "\n",
    "    categorical_features = [\n",
    "        col for col in df_train.columns if col.startswith((\"MSZoning_\", \"Neighborhood_\", \n",
    "                                                           \"BldgType_\", \"HouseStyle_\", \"SaleCondition_\"))\n",
    "    ]\n",
    "\n",
    "    selected_features = numerical_features + categorical_features\n",
    "\n",
    "    X_train = df_train[selected_features]\n",
    "    y_train = df_train[\"SalePrice\"]\n",
    "    X_test = df_test[selected_features]\n",
    "\n",
    "    print(f\"Número de variables finales: {len(selected_features)}\")\n",
    "    print(\"Primeras filas de X_train:\")\n",
    "    print(X_train.head())\n",
    "\n",
    "    return X_train, y_train, X_test, numerical_features, categorical_features\n",
    "\n",
    "\n",
    "def prepare_pipeline(numerical_features, categorical_features):\n",
    "    \"\"\"Prepara y devuelve el pipeline de preprocesamiento.\"\"\"\n",
    "    num_pipeline = Pipeline([\n",
    "        (\"imputer\", SimpleImputer(strategy=\"median\")),\n",
    "        (\"scaler\", StandardScaler())\n",
    "    ])\n",
    "\n",
    "    cat_pipeline = Pipeline([\n",
    "        (\"encoder\", OneHotEncoder(handle_unknown=\"ignore\"))\n",
    "    ])\n",
    "\n",
    "    preprocessor = ColumnTransformer([\n",
    "        (\"num\", num_pipeline, numerical_features),\n",
    "        (\"cat\", cat_pipeline, categorical_features)\n",
    "    ])\n",
    "\n",
    "    return preprocessor\n",
    "\n",
    "\n",
    "def split_data(X_train, y_train, test_size=0.2, random_state=42):\n",
    "    \"\"\"Divide los datos en entrenamiento y validación.\"\"\"\n",
    "    X_train_sub, X_val, y_train_sub, y_val = train_test_split(X_train, y_train, test_size=test_size, random_state=random_state)\n",
    "    print(f\"X_train_sub: {X_train_sub.shape}, X_val: {X_val.shape}\")\n",
    "    return X_train_sub, X_val, y_train_sub, y_val\n",
    "\n",
    "\n",
    "# Ejecución\n",
    "# df_train y df_test deben estar previamente cargados\n",
    "X_train, y_train, X_test, numerical_features, categorical_features = select_features(df_train, df_test)\n",
    "preprocessor = prepare_pipeline(numerical_features, categorical_features)\n",
    "X_train_sub, X_val, y_train_sub, y_val = split_data(X_train, y_train)\n"
   ]
  },
  {
   "cell_type": "markdown",
   "metadata": {},
   "source": [
    "## Linear Regression"
   ]
  },
  {
   "cell_type": "code",
   "execution_count": 14,
   "metadata": {},
   "outputs": [
    {
     "name": "stderr",
     "output_type": "stream",
     "text": [
      "2025-02-15 17:10:28,797 - INFO - ✅ Modelo entrenado correctamente\n",
      "2025-02-15 17:10:28,801 - INFO - 📊 Evaluación del modelo:\n",
      "2025-02-15 17:10:28,801 - INFO - MAE: 24623.25\n",
      "2025-02-15 17:10:28,801 - INFO - RMSE: 39445.56\n",
      "2025-02-15 17:10:28,801 - INFO - R²: 0.7971\n",
      "2025-02-15 17:10:28,806 - INFO - ✅ Predicciones realizadas correctamente.\n"
     ]
    },
    {
     "name": "stdout",
     "output_type": "stream",
     "text": [
      "🔍 Primeras predicciones: [101326.67622267 153570.18494751 164859.23143874 185151.55439356\n",
      " 212049.05004195]\n"
     ]
    }
   ],
   "source": [
    "def train_linear_regression_pipeline(preprocessor, X_train, y_train):\n",
    "    \"\"\"Entrena un pipeline con regresión lineal.\"\"\"\n",
    "    try:\n",
    "        lr_pipeline = Pipeline([\n",
    "            (\"preprocessor\", preprocessor),\n",
    "            (\"model\", LinearRegression())\n",
    "        ])\n",
    "        lr_pipeline.fit(X_train, y_train)\n",
    "        logging.info(\"✅ Modelo entrenado correctamente\")\n",
    "        return lr_pipeline\n",
    "    except Exception as e:\n",
    "        logging.error(f\"❌ Error al entrenar el modelo: {e}\")\n",
    "        return None\n",
    "\n",
    "def evaluate_model(model, X_val, y_val):\n",
    "    \"\"\"Evalúa el modelo con métricas estándar.\"\"\"\n",
    "    try:\n",
    "        y_pred = model.predict(X_val)\n",
    "        mae = mean_absolute_error(y_val, y_pred)\n",
    "        rmse = np.sqrt(mean_squared_error(y_val, y_pred))\n",
    "        r2 = r2_score(y_val, y_pred)\n",
    "        logging.info(\"📊 Evaluación del modelo:\")\n",
    "        logging.info(f\"MAE: {mae:.2f}\")\n",
    "        logging.info(f\"RMSE: {rmse:.2f}\")\n",
    "        logging.info(f\"R²: {r2:.4f}\")\n",
    "        return mae, rmse, r2\n",
    "    except Exception as e:\n",
    "        logging.error(f\"❌ Error al evaluar el modelo: {e}\")\n",
    "        return None, None, None\n",
    "\n",
    "def make_predictions(model, X_test):\n",
    "    \"\"\"Genera predicciones utilizando un modelo entrenado.\"\"\"\n",
    "    try:\n",
    "        predictions = model.predict(X_test)\n",
    "        logging.info(\"✅ Predicciones realizadas correctamente.\")\n",
    "        return predictions\n",
    "    except Exception as e:\n",
    "        logging.error(f\"❌ Error al hacer predicciones: {e}\")\n",
    "        return None\n",
    "\n",
    "\n",
    "# 📌 Ejecutar el flujo completo en el notebook\n",
    "model = train_linear_regression_pipeline(preprocessor, X_train_sub, y_train_sub)\n",
    "\n",
    "if model:\n",
    "    evaluate_model(model, X_val, y_val)\n",
    "    predictions = make_predictions(model, X_test)\n",
    "    if predictions is not None:\n",
    "        print(\"🔍 Primeras predicciones:\", predictions[:5])\n"
   ]
  }
 ],
 "metadata": {
  "kernelspec": {
   "display_name": "tareas",
   "language": "python",
   "name": "python3"
  },
  "language_info": {
   "codemirror_mode": {
    "name": "ipython",
    "version": 3
   },
   "file_extension": ".py",
   "mimetype": "text/x-python",
   "name": "python",
   "nbconvert_exporter": "python",
   "pygments_lexer": "ipython3",
   "version": "3.10.16"
  }
 },
 "nbformat": 4,
 "nbformat_minor": 2
}
